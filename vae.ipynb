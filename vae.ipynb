{
 "cells": [
  {
   "cell_type": "code",
   "execution_count": 1,
   "metadata": {},
   "outputs": [],
   "source": [
    "import torchvision.datasets as datasets\n",
    "\n",
    "# %load_ext autoreload\n",
    "# %autoreload 2"
   ]
  },
  {
   "cell_type": "code",
   "execution_count": 2,
   "metadata": {},
   "outputs": [],
   "source": [
    "# %pip install pythae"
   ]
  },
  {
   "cell_type": "code",
   "execution_count": 3,
   "metadata": {},
   "outputs": [],
   "source": [
    "import os\n",
    "import torch\n",
    "import numpy as np\n",
    "import imageio\n",
    "\n",
    "if not os.path.exists(\"data_folders\"):\n",
    "    os.mkdir(\"data_folders\")\n",
    "if not os.path.exists(\"data_folders/train\"):\n",
    "    os.mkdir(\"data_folders/train\")\n",
    "if not os.path.exists(\"data_folders/eval\"):\n",
    "    os.mkdir(\"data_folders/eval\")\n"
   ]
  },
  {
   "cell_type": "code",
   "execution_count": 14,
   "metadata": {},
   "outputs": [],
   "source": [
    "from torchvision import datasets, transforms\n",
    "data_transform = transforms.Compose([\n",
    "    # transforms.Grayscale(num_output_channels=1),\n",
    "    transforms.ToTensor(), # the data must be tensors\n",
    "    transforms.RandomHorizontalFlip(0.5),\n",
    "    transforms.GaussianBlur(3)\n",
    "])"
   ]
  },
  {
   "cell_type": "code",
   "execution_count": 15,
   "metadata": {},
   "outputs": [],
   "source": [
    "from pythae.data.datasets import DatasetOutput\n",
    "\n",
    "class MyCustomDataset(datasets.ImageFolder):\n",
    "\n",
    "    def __init__(self, root, transform=None, target_transform=None):\n",
    "        super().__init__(root=root, transform=transform, target_transform=target_transform)\n",
    "\n",
    "    def __getitem__(self, index):\n",
    "        X, _ = super().__getitem__(index)\n",
    "\n",
    "        return DatasetOutput(\n",
    "            data=X\n",
    "        )\n"
   ]
  },
  {
   "cell_type": "code",
   "execution_count": 16,
   "metadata": {},
   "outputs": [],
   "source": [
    "train_dataset = MyCustomDataset(\n",
    "    root=\"data_folders/train\",\n",
    "    transform=data_transform,\n",
    ")\n",
    "\n",
    "eval_dataset = MyCustomDataset(\n",
    "    root=\"data_folders/eval\", \n",
    "    transform=data_transform\n",
    ")"
   ]
  },
  {
   "cell_type": "code",
   "execution_count": 1,
   "metadata": {},
   "outputs": [],
   "source": [
    "from pythae.models import VAE, VAEConfig\n",
    "from pythae.trainers import BaseTrainerConfig\n",
    "from pythae.pipelines.training import TrainingPipeline\n",
    "config = BaseTrainerConfig(\n",
    "    output_dir='my_model',\n",
    "    learning_rate=1e-4,\n",
    "    per_device_train_batch_size=10,\n",
    "    per_device_eval_batch_size=10,\n",
    "    num_epochs=50, # Change this to train the model a bit more\n",
    "    steps_saving=5\n",
    ")\n",
    "\n",
    "\n",
    "model_config = VAEConfig(\n",
    "    input_dim=(3, 512, 512),\n",
    "    latent_dim=8\n",
    ")\n",
    "\n",
    "model = VAE(\n",
    "    model_config=model_config\n",
    ")\n",
    "pipeline = TrainingPipeline(\n",
    "    training_config=config,\n",
    "    model=model\n",
    ")\n",
    "pipeline(\n",
    "    train_data=train_dataset, # here we use the custom train dataset\n",
    "    eval_data=eval_dataset # here we use the custom eval dataset\n",
    ")"
   ]
  },
  {
   "cell_type": "code",
   "execution_count": 21,
   "metadata": {},
   "outputs": [],
   "source": [
    "import os\n",
    "from pythae.models import AutoModel\n",
    "last_training = sorted(os.listdir('my_model'))[-1]\n",
    "trained_model = AutoModel.load_from_folder(os.path.join('my_model', last_training, 'final_model'))\n",
    "from pythae.samplers import NormalSampler\n",
    "# create normal sampler\n",
    "normal_samper = NormalSampler(\n",
    "    model=trained_model\n",
    ")\n",
    "# sample\n",
    "gen_data = normal_samper.sample(\n",
    "    num_samples=25\n",
    ")\n",
    "t.tight_layout(pad=0.)"
   ]
  },
  {
   "cell_type": "code",
   "execution_count": 2,
   "metadata": {},
   "outputs": [],
   "source": [
    "import matplotlib.pyplot as plt\n",
    "# show results with normal sampler\n",
    "fig, axes = plt.subplots(nrows=5, ncols=5, figsize=(10, 10))\n",
    "\n",
    "for i in range(5):\n",
    "    for j in range(5):\n",
    "        axes[i][j].imshow(np.swapaxes(np.swapaxes(gen_data[i*5 +j], 0, 2), 0, 1))\n",
    "        axes[i][j].axis('off')\n"
   ]
  }
 ],
 "metadata": {
  "kernelspec": {
   "display_name": "Python 3",
   "language": "python",
   "name": "python3"
  },
  "language_info": {
   "codemirror_mode": {
    "name": "ipython",
    "version": 3
   },
   "file_extension": ".py",
   "mimetype": "text/x-python",
   "name": "python",
   "nbconvert_exporter": "python",
   "pygments_lexer": "ipython3",
   "version": "3.11.2"
  },
  "vscode": {
   "interpreter": {
    "hash": "aee8b7b246df8f9039afb4144a1f6fd8d2ca17a180786b69acc140d282b71a49"
   }
  }
 },
 "nbformat": 4,
 "nbformat_minor": 4
}
